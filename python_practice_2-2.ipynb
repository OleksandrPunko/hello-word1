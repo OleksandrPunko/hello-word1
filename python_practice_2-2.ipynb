{
 "metadata": {
  "kernelspec": {
   "name": "python",
   "display_name": "Python (Pyodide)",
   "language": "python"
  },
  "language_info": {
   "codemirror_mode": {
    "name": "python",
    "version": 3
   },
   "file_extension": ".py",
   "mimetype": "text/x-python",
   "name": "python",
   "nbconvert_exporter": "python",
   "pygments_lexer": "ipython3",
   "version": "3.8"
  },
  "colab": {
   "provenance": []
  }
 },
 "nbformat_minor": 4,
 "nbformat": 4,
 "cells": [
  {
   "cell_type": "markdown",
   "source": [
    "# I. Змінні та памʼять."
   ],
   "metadata": {
    "id": "p9wwt0LZzNvn"
   }
  },
  {
   "cell_type": "markdown",
   "source": [
    "1. Створити змінні, що посилаються на два цілих числа, що однакові за значенням, де значення належить проміжку від -5 до 256. Перевірте, чи будуть ці змінні рівні тільки за значенням або ж ще будуть посилатися на один і той самий обʼєкт в памʼяті? Наведіть код та дайте текстову відповідь нижче."
   ],
   "metadata": {
    "id": "HTJrrm95xSV9"
   }
  },
  {
   "cell_type": "code",
   "source": [
    "integer_num = 6\n",
    "integer_num1 = 6"
   ],
   "metadata": {
    "id": "TATni2vzayjG",
    "is_executing": true,
    "trusted": true
   },
   "outputs": [],
   "execution_count": 31
  },
  {
   "cell_type": "code",
   "source": [
    "print (integer_num is integer_num1)\n",
    "print(id(integer_num))\n",
    "print(id(integer_num1))\n",
    "print(id(integer_num) is id(integer_num1))"
   ],
   "metadata": {
    "trusted": true
   },
   "outputs": [
    {
     "name": "stdout",
     "text": "True\n2810964\n2810964\nFalse\n",
     "output_type": "stream"
    }
   ],
   "execution_count": 32
  },
  {
   "cell_type": "markdown",
   "source": [
    "* Обʼєкти a і b рівні і за значенням, і посилаються на один і той же обʼєкт в памʼяті. Однак, перевірка на те, чи будуть їх id однаковими повернула False"
   ],
   "metadata": {
    "id": "zfRG_o3WbRdg"
   }
  },
  {
   "cell_type": "markdown",
   "source": [
    "2. За допомогою якої функції можна перевірити належність змінної до вказаного типу даних (напр. чи змінна True посилається на значення булевого та цілочисленого типу)?"
   ],
   "metadata": {
    "id": "ISORzt6M3vAt"
   }
  },
  {
   "cell_type": "code",
   "source": [
    "some_bool = True\n",
    "integer_num = 4 / 7"
   ],
   "metadata": {
    "id": "9vL9CFaMbfyo",
    "trusted": true
   },
   "outputs": [],
   "execution_count": 34
  },
  {
   "cell_type": "code",
   "source": [
    "print(isinstance(some_bool, bool))\n",
    "print(isinstance(integer_num, float))"
   ],
   "metadata": {
    "trusted": true
   },
   "outputs": [
    {
     "name": "stdout",
     "text": "True\nTrue\n",
     "output_type": "stream"
    }
   ],
   "execution_count": 35
  },
  {
   "cell_type": "markdown",
   "source": [
    "# II. Цілі числа та числа з рухомою комою"
   ],
   "metadata": {
    "id": "tRxugKAxwYLw"
   }
  },
  {
   "cell_type": "markdown",
   "source": [
    "3. Створити дві змінні, що посилаються на будь-які ціле число та число з рухомою комою та продемонструвати такі арифметичні операції: додавання, віднімання, ділення, множення, ділення без залишку, ділення по модулю, приведення до ступеню. Всі результати операцій вивести на екран."
   ],
   "metadata": {
    "id": "NLHkgd5Gybc8"
   }
  },
  {
   "cell_type": "code",
   "source": [
    "integer_num = 10\n",
    "float_num = 3.5"
   ],
   "metadata": {
    "id": "nb8u_3pjb2cA",
    "trusted": true
   },
   "outputs": [],
   "execution_count": 1
  },
  {
   "cell_type": "code",
   "source": [
    "addition = integer_num + float_num\n",
    "print(\"Додавання:\", addition)\n",
    "\n",
    "subtraction = integer_num - float_num\n",
    "print(\"Віднімання:\", subtraction)\n",
    "\n",
    "division = integer_num / float_num\n",
    "print(\"Ділення:\", division)\n",
    "\n",
    "multiplication = integer_num * float_num\n",
    "print(\"Множення:\", multiplication)\n",
    "\n",
    "integer_division = integer_num // float_num\n",
    "print(\"Ділення без залишку:\", integer_division)\n",
    "\n",
    "modulus = integer_num % int(float_num)\n",
    "print(\"Ділення по модулю:\", modulus)\n",
    "\n",
    "exponential = integer_num ** 2\n",
    "print(\"Приведення до ступеню:\", exponential)"
   ],
   "metadata": {
    "trusted": true
   },
   "outputs": [
    {
     "name": "stdout",
     "text": "Додавання: 13.5\nВіднімання: 6.5\nДілення: 2.857142857142857\nМноження: 35.0\nДілення без залишку: 2.0\nДілення по модулю: 1\nПриведення до ступеню: 100\n",
     "output_type": "stream"
    }
   ],
   "execution_count": 3
  },
  {
   "cell_type": "markdown",
   "source": [
    "4. Використовуючи змінні з вправи 3, продемонструйте механізм явного перетворення типів, де числа з рухомою комою перетворюються на цілі числа. Також визначте змінну, що посилається на значення булевого типу і спробуйте явно привести її до цілого числа."
   ],
   "metadata": {
    "id": "1kBClKgPzZnC"
   }
  },
  {
   "cell_type": "code",
   "source": [
    "converted_float_to_int = int(float_num)\n",
    "print(\"Перетворення числа з рухомою комою на ціле число:\", converted_float_to_int)\n",
    "\n",
    "bool_value = True\n",
    "\n",
    "converted_bool_to_int = int(bool_value)\n",
    "print(\"Перетворення булевого значення на ціле число:\", converted_bool_to_int)"
   ],
   "metadata": {
    "id": "TbqJbkeUcKsD",
    "trusted": true
   },
   "outputs": [
    {
     "name": "stdout",
     "text": "Перетворення числа з рухомою комою на ціле число: 3\nПеретворення булевого значення на ціле число: 1\n",
     "output_type": "stream"
    }
   ],
   "execution_count": 4
  },
  {
   "cell_type": "markdown",
   "source": [
    "# IІІ. Рядки (String)."
   ],
   "metadata": {
    "id": "EVJ7AflwxrZi"
   }
  },
  {
   "cell_type": "markdown",
   "source": [
    "5. Створити пустий рядок двома різними способами."
   ],
   "metadata": {
    "id": "_s5ECzz9zE61"
   }
  },
  {
   "cell_type": "code",
   "source": [
    "empty_string_1 = ''\n",
    "empty_string_2 = str()\n",
    "\n",
    "print(\"Пустий рядок першим способом:\", empty_string_1)\n",
    "print(\"Пустий рядок другим способом:\", empty_string_2)"
   ],
   "metadata": {
    "id": "fkZJHu9Scvc-",
    "trusted": true
   },
   "outputs": [
    {
     "name": "stdout",
     "text": "Пустий рядок першим способом: \nПустий рядок другим способом: \n",
     "output_type": "stream"
    }
   ],
   "execution_count": 6
  },
  {
   "cell_type": "markdown",
   "source": [
    "6. Створити рядок з апострофом. Зробити його сирим. Вивести обидва рядка на екран."
   ],
   "metadata": {
    "id": "4Bdn9J3MzLf_"
   }
  },
  {
   "cell_type": "code",
   "source": [
    "string_with_apostrophe = \"Цей рядок містить апостроф: '\"\n",
    "raw_string_with_apostrophe = r\"Цей сирий рядок містить апостроф: '\"\n",
    "\n",
    "print(\"Звичайний рядок з апострофом:\", string_with_apostrophe)\n",
    "print(\"Сирий рядок з апострофом:\", raw_string_with_apostrophe)\n"
   ],
   "metadata": {
    "id": "ivji_hsmc0GH",
    "trusted": true
   },
   "outputs": [
    {
     "name": "stdout",
     "text": "Звичайний рядок з апострофом: Цей рядок містить апостроф: '\nСирий рядок з апострофом: Цей сирий рядок містить апостроф: '\n",
     "output_type": "stream"
    }
   ],
   "execution_count": 7
  },
  {
   "cell_type": "markdown",
   "source": [
    "7. Створити змінну, що буде посилатися на Ваше прізвище латинкою. Створити форматований рядок, який буде мати вигляд \"My surname is ______\", де на місці нижніх підкреслень буде Ваше прізвище зі змінної."
   ],
   "metadata": {
    "id": "bg_d8wM4z8dS"
   }
  },
  {
   "cell_type": "code",
   "source": [
    "my_surname = 'Punko'\n",
    "print(f\"My surname is {my_surname}\")"
   ],
   "metadata": {
    "id": "kuxFgpWndACq",
    "trusted": true
   },
   "outputs": [
    {
     "name": "stdout",
     "text": "My surname is Punko\n",
     "output_type": "stream"
    }
   ],
   "execution_count": 13
  },
  {
   "cell_type": "markdown",
   "source": [
    "8. Маючи рядок \"My dog is crazy.\" перетворити його на список [\"my\", \"dog\", \"is\", \"crazy\"]"
   ],
   "metadata": {
    "id": "1Nc6RqvQ0hxU"
   }
  },
  {
   "cell_type": "code",
   "source": [
    "initial_string = \"My dog is crazy.\"\n",
    "\n",
    "word_list = initial_string.lower().split()\n",
    "\n",
    "print(word_list)"
   ],
   "metadata": {
    "id": "w1Ya4RqedUhw",
    "trusted": true
   },
   "outputs": [
    {
     "name": "stdout",
     "text": "['my', 'dog', 'is', 'crazy.']\n",
     "output_type": "stream"
    }
   ],
   "execution_count": 12
  },
  {
   "cell_type": "markdown",
   "source": [
    "# IV. Робота зі списками."
   ],
   "metadata": {
    "id": "GYVqN9uP1D4n"
   }
  },
  {
   "cell_type": "markdown",
   "source": [
    "9. Створити список двома різними за синтаксисом способами. За допомогою вбудованої функції обчисліть довжину одного з них."
   ],
   "metadata": {
    "id": "7-DeDunw2sO-"
   }
  },
  {
   "cell_type": "code",
   "source": [
    "list1 = [1, 2, 3, 4, 5]\n",
    "list2 = list(range(10))\n",
    "\n",
    "length1 = len(list1)\n",
    "length2 = len(list2)\n",
    "\n",
    "print(\"Довжина списку list1:\", length1)\n",
    "print(\"Довжина списку list2:\", length2)"
   ],
   "metadata": {
    "id": "zxg06Uuxdyoh",
    "trusted": true
   },
   "outputs": [
    {
     "name": "stdout",
     "text": "Довжина списку list1: 5\nДовжина списку list2: 10\n",
     "output_type": "stream"
    }
   ],
   "execution_count": 14
  },
  {
   "cell_type": "markdown",
   "source": [
    "10. Створіть два списка та за допомогою спеціального методу додайте другий з них в якості останнього елемента першого."
   ],
   "metadata": {
    "id": "8vmGUTjL22gI"
   }
  },
  {
   "cell_type": "code",
   "source": [
    "list1 = [1, 2, 3, 4, 5]\n",
    "list2 = [6, 7, 8, 9, 10]\n",
    "\n",
    "list1.extend(list2)\n",
    "\n",
    "print(\"Оновлений перший список:\", list1)"
   ],
   "metadata": {
    "id": "uHtjWYw7d7hm",
    "trusted": true
   },
   "outputs": [
    {
     "name": "stdout",
     "text": "Оновлений перший список: [1, 2, 3, 4, 5, 6, 7, 8, 9, 10]\n",
     "output_type": "stream"
    }
   ],
   "execution_count": 15
  },
  {
   "cell_type": "markdown",
   "source": [
    "11. Створіть список, де елементами цього списку також є списки. Отримай перший елемент з останнього рядка та виведи значення на екран."
   ],
   "metadata": {
    "id": "JC3BkD-67_--"
   }
  },
  {
   "cell_type": "code",
   "source": [
    "nested_list = [\n",
    "    [1, 2, 3],\n",
    "    [4, 5, 6],\n",
    "    [7, 8, 9]\n",
    "]\n",
    "\n",
    "last_row = nested_list[-1]\n",
    "\n",
    "first_element_last_row = last_row[0]\n",
    "\n",
    "print(\"Перший елемент з останнього рядка:\", first_element_last_row)\n"
   ],
   "metadata": {
    "id": "Kz2jZHsGeLlz",
    "trusted": true
   },
   "outputs": [
    {
     "name": "stdout",
     "text": "Перший елемент з останнього рядка: 7\n",
     "output_type": "stream"
    }
   ],
   "execution_count": 16
  },
  {
   "cell_type": "markdown",
   "source": [
    "12. Створіть список з десяти елементів різного типу. Отримайте всі елементи, окрім двох перших та двох останніх та збережіть їх в новій змінній."
   ],
   "metadata": {
    "id": "JA47PKTv8zFK"
   }
  },
  {
   "cell_type": "code",
   "source": [
    "original_list = [1, 'two', 3.0, True, [5, 6], 'seven', {'eight': 8}, (9, 10), None, 'last']\n",
    "\n",
    "new_list = original_list[2:-2]\n",
    "\n",
    "print(\"Новий список з елементів, окрім двох перших та двох останніх:\")\n",
    "print(new_list)"
   ],
   "metadata": {
    "id": "_rHdUR-ueP4-",
    "trusted": true
   },
   "outputs": [
    {
     "name": "stdout",
     "text": "Новий список з елементів, окрім двох перших та двох останніх:\n[3.0, True, [5, 6], 'seven', {'eight': 8}, (9, 10)]\n",
     "output_type": "stream"
    }
   ],
   "execution_count": 17
  },
  {
   "cell_type": "markdown",
   "source": [
    "# V. Робота з кортежами."
   ],
   "metadata": {
    "id": "pCjR1dJb1Qbi"
   }
  },
  {
   "cell_type": "markdown",
   "source": [
    "14. Створити кортеж з один елементом."
   ],
   "metadata": {
    "id": "fAZCxAX06R_k"
   }
  },
  {
   "cell_type": "code",
   "source": [
    "singleton_tuple = (42,)\n",
    "\n",
    "print(singleton_tuple)"
   ],
   "metadata": {
    "id": "H7d82WkQev3e",
    "trusted": true
   },
   "outputs": [
    {
     "name": "stdout",
     "text": "(42,)\n",
     "output_type": "stream"
    }
   ],
   "execution_count": 22
  },
  {
   "cell_type": "markdown",
   "source": [
    "15. Порівняйте список та кортеж. Назвіть схожості та відмінності, випадки використання."
   ],
   "metadata": {
    "id": "8LCtYcmI6w1M"
   }
  },
  {
   "cell_type": "markdown",
   "source": [
    "*Список (List) та кортеж (Tuple) є двома типами даних в мові програмування. Схожість полягає в тому, що обидва типи данних зберігають колекцію впорядкованих обʼєктів. Елементи впорядковані, тому до них можна доступитись за допомогою індексу. Можна визначити довжину, як влаштованою функцією, так і циклом (for). Відмінність полягає в змінюваності: (List) можна змінювати, а (Tuple) - ні. Тож використовуємо перший тип тоді, коли треба змінювати кількість елементів списку і самі елементи, а другий, коли елементи мають бути незмінними."
   ],
   "metadata": {
    "id": "fUsN1Hnue0C6"
   }
  },
  {
   "cell_type": "markdown",
   "source": [
    "16. Створіть кортеж з 11ти елементів чисел з рухомою комою та отримайте кожен парний за індексом елемент в зворотньому порядку. Наприклад, маючи (1.2, 2.3, 3.3, 4.3, 5.3, 6.3, 7.3, 8.3, 9.3, 0.3), отримати (0.3, 8.3, 6.3, 4.3, 2.3). Результат збережіть в нову змінну та виведіть на екран."
   ],
   "metadata": {
    "id": "m0xrwFijAmDD"
   }
  },
  {
   "cell_type": "code",
   "source": [
    "original_tuple = (1.2, 2.3, 3.3, 4.3, 5.3, 6.3, 7.3, 8.3, 9.3, 0.3, 11.3)\n",
    "\n",
    "result = original_tuple[::-2]\n",
    "\n",
    "print(result)"
   ],
   "metadata": {
    "id": "p-5DAH6XfAGA",
    "trusted": true
   },
   "outputs": [
    {
     "name": "stdout",
     "text": "(11.3, 9.3, 7.3, 5.3, 3.3, 1.2)\n",
     "output_type": "stream"
    }
   ],
   "execution_count": 23
  },
  {
   "cell_type": "markdown",
   "source": [
    "# VI. Множини (Set)."
   ],
   "metadata": {
    "id": "rW_I9dt3x6cW"
   }
  },
  {
   "cell_type": "markdown",
   "source": [
    "17. Створити множину без елементів. Після цого за допомогою методу додайте кілька різних елементів до множини. Чи множини є змінним типом даних?"
   ],
   "metadata": {
    "id": "zNjRLHLw1Bgg"
   }
  },
  {
   "cell_type": "code",
   "source": [
    "empty_set = set()\n",
    "\n",
    "empty_set.add(1)\n",
    "empty_set.add('two')\n",
    "empty_set.add(3.0)\n",
    "\n",
    "print(empty_set)"
   ],
   "metadata": {
    "id": "KOv7zc2Kfo4N",
    "trusted": true
   },
   "outputs": [
    {
     "name": "stdout",
     "text": "{1, 3.0, 'two'}\n",
     "output_type": "stream"
    }
   ],
   "execution_count": 24
  },
  {
   "cell_type": "markdown",
   "source": [
    "*Так, множини, - змінний тип"
   ],
   "metadata": {
    "id": "vxS6dVYiftZQ"
   }
  },
  {
   "cell_type": "markdown",
   "source": [
    "18. Створити множину, маючи список my_list = [1, 1, 2, 67, 67, 8, 9]. Пояснити, чому \"зникли\" деякі елементи."
   ],
   "metadata": {
    "id": "gHpT0Zw_1HEF"
   }
  },
  {
   "cell_type": "code",
   "source": [
    "my_list = [1, 1, 2, 67, 67, 8, 9]\n",
    "my_set = set(my_list)\n",
    "\n",
    "print(my_set)"
   ],
   "metadata": {
    "id": "qCN4uvJ_fxmu",
    "trusted": true
   },
   "outputs": [
    {
     "name": "stdout",
     "text": "{1, 2, 67, 8, 9}\n",
     "output_type": "stream"
    }
   ],
   "execution_count": 25
  },
  {
   "cell_type": "markdown",
   "source": [
    "*В множині елементи, які повторюються, будуть видалені, адже це один і той же елемент."
   ],
   "metadata": {
    "id": "tFNc1e20fyny"
   }
  },
  {
   "cell_type": "markdown",
   "source": [
    "19. Створіть дві множини. Продемонстуйте над ними операції: обʼєднання, різниці, пересічі та симетричної різниці. Використовуйте методи, що не змінюють множини, а створюють нові."
   ],
   "metadata": {
    "id": "SRMkGizS1UwY"
   }
  },
  {
   "cell_type": "code",
   "source": [
    "set1 = {1, 2, 3, 4, 5}\n",
    "set2 = {4, 5, 6, 7, 8}"
   ],
   "metadata": {
    "id": "h0T-VuDnf3Ri",
    "trusted": true
   },
   "outputs": [],
   "execution_count": 26
  },
  {
   "cell_type": "code",
   "source": [
    "print(\"Перша множина:\", set1)\n",
    "print(\"Друга множина:\", set2)\n",
    "\n",
    "union_set = set1.union(set2)\n",
    "print(\"Об'єднання множин:\", union_set)\n",
    "\n",
    "difference_set = set1.difference(set2)\n",
    "print(\"Різниця множин set1 - set2:\", difference_set)\n",
    "\n",
    "intersection_set = set1.intersection(set2)\n",
    "print(\"Пересічення множин:\", intersection_set)\n",
    "\n",
    "symmetric_difference_set = set1.symmetric_difference(set2)\n",
    "print(\"Симетрична різниця множин:\", symmetric_difference_set)"
   ],
   "metadata": {
    "trusted": true
   },
   "outputs": [
    {
     "name": "stdout",
     "text": "Перша множина: {1, 2, 3, 4, 5}\nДруга множина: {4, 5, 6, 7, 8}\nОб'єднання множин: {1, 2, 3, 4, 5, 6, 7, 8}\nРізниця множин set1 - set2: {1, 2, 3}\nПересічення множин: {4, 5}\nСиметрична різниця множин: {1, 2, 3, 6, 7, 8}\n",
     "output_type": "stream"
    }
   ],
   "execution_count": 28
  },
  {
   "cell_type": "markdown",
   "source": [
    "# VII. Словники (Dictionary)."
   ],
   "metadata": {
    "id": "kWc8gkzTx7Ea"
   }
  },
  {
   "cell_type": "markdown",
   "source": [
    "20. Створіть пустий словник. До нього додайте чотири пари елементів такі, щоб їхні ключі були різних типів. Чи може список бути ключем? Чому?"
   ],
   "metadata": {
    "id": "i5FLwj-B2ybQ"
   }
  },
  {
   "cell_type": "code",
   "source": [
    "my_dict = {}\n",
    "\n",
    "my_dict[1] = \"one\"\n",
    "my_dict[\"two\"] = 2\n",
    "my_dict[3.0] = [3, 6, 9]\n",
    "my_dict[(4, 5)] = \"tuple\"\n",
    "\n",
    "print(my_dict)"
   ],
   "metadata": {
    "id": "hxgv3BzrgLAV",
    "trusted": true
   },
   "outputs": [
    {
     "name": "stdout",
     "text": "{1: 'one', 'two': 2, 3.0: [3, 6, 9], (4, 5): 'tuple'}\n",
     "output_type": "stream"
    }
   ],
   "execution_count": 29
  },
  {
   "cell_type": "markdown",
   "source": [
    "*Список не може бути ключем у словнику в Python. Ключі словника повинні бути хешованими, тобто незмінними об'єктами. Список у Python є змінним типом даних, і його значення може змінюватися. Оскільки список не є хешованим, він не може бути використаний як ключ у словнику."
   ],
   "metadata": {
    "id": "zwa7UVN-gR3m"
   }
  },
  {
   "cell_type": "markdown",
   "source": [
    "21. Створіть словник, де значенням в одній з пар теж буде словник, який теж має вкладений словник. Виведіть на екран значення, що міститься в словнику, що знаходиться на найнижчому рівні ієрархії вкладеності (найбільш внутрішній)."
   ],
   "metadata": {
    "id": "WM_pMlJsgoNf"
   }
  },
  {
   "cell_type": "code",
   "source": [
    "my_dict = {\n",
    "    'outer_key': {\n",
    "        'inner_key': {\n",
    "            'innermost_key': 'value'\n",
    "        }\n",
    "    }\n",
    "}\n",
    "\n",
    "value = my_dict['outer_key']['inner_key']['innermost_key']\n",
    "print(\"Значення на найнижчому рівні вкладеності:\", value)"
   ],
   "metadata": {
    "id": "60dlP7IHhAy4",
    "trusted": true
   },
   "outputs": [
    {
     "name": "stdout",
     "text": "Значення на найнижчому рівні вкладеності: value\n",
     "output_type": "stream"
    }
   ],
   "execution_count": 30
  },
  {
   "cell_type": "markdown",
   "source": [
    "# Вітаю! Ви велика(ий) молодець, що впоралась(вся). Похваліть себе та побалуйте чимось приємним. Я Вами пишаюся."
   ],
   "metadata": {
    "id": "xOZP0hkx6cCr"
   }
  }
 ]
}
