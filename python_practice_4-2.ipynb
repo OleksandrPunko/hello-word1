{
  "metadata": {
    "kernelspec": {
      "name": "python",
      "display_name": "Python (Pyodide)",
      "language": "python"
    },
    "language_info": {
      "codemirror_mode": {
        "name": "python",
        "version": 3
      },
      "file_extension": ".py",
      "mimetype": "text/x-python",
      "name": "python",
      "nbconvert_exporter": "python",
      "pygments_lexer": "ipython3",
      "version": "3.8"
    },
    "colab": {
      "provenance": []
    }
  },
  "nbformat_minor": 4,
  "nbformat": 4,
  "cells": [
    {
      "cell_type": "markdown",
      "source": "# I. Functions. Arguments.",
      "metadata": {
        "id": "kXpppdVm6wFy"
      }
    },
    {
      "cell_type": "markdown",
      "source": "1. (5б) Назвіть основні 4 смислові  частини, з яких складається функція.",
      "metadata": {
        "id": "u_krJdlbAkVz"
      }
    },
    {
      "cell_type": "markdown",
      "source": "*Заголовок функції - перша стрічка визначення функції, яка містить ім'я функції та список параметрів, які приймає функція. Тіло функції: Це блок коду, який визначає, що робить функція. Він починається зі стрічки, що містить ім'я функції та список параметрів, а потім відокремлюється від заголовка функції відступом. Параметри функції: Це значення, яке передається функції під час її виклику. Вони вказуються у круглих дужках після імені функції у заголовку функції.Значення, що повертається: Це значення, яке функція повертає після виконання. Воно вказується за допомогою ключового слова return",
      "metadata": {
        "id": "KKTrTXmHAptb"
      }
    },
    {
      "cell_type": "markdown",
      "source": "2. (3б) Визначте функцію, що приймає 2 аргументи та повертає результат ділення 1го аргумента на інший.",
      "metadata": {
        "id": "ORM4PqJQAtDM"
      }
    },
    {
      "cell_type": "code",
      "source": "def divide(a, b):\n    return a / b\n\nresult = divide(10, 3)\nprint(result)",
      "metadata": {
        "id": "EuDx-z8M6sLo",
        "trusted": true
      },
      "outputs": [
        {
          "name": "stdout",
          "text": "3.3333333333333335\n",
          "output_type": "stream"
        }
      ],
      "execution_count": 10
    },
    {
      "cell_type": "markdown",
      "source": "3. (2б) Викличте вище визначену функцію, де другий аргумент дорівнює 0.",
      "metadata": {
        "id": "5joQGQ-SAyMe"
      }
    },
    {
      "cell_type": "code",
      "source": "result = divide(10, 0)",
      "metadata": {
        "id": "V5cBV1LOA3d-",
        "trusted": true
      },
      "outputs": [
        {
          "ename": "<class 'ZeroDivisionError'>",
          "evalue": "division by zero",
          "traceback": [
            "\u001b[0;31m---------------------------------------------------------------------------\u001b[0m",
            "\u001b[0;31mZeroDivisionError\u001b[0m                         Traceback (most recent call last)",
            "Cell \u001b[0;32mIn[11], line 1\u001b[0m\n\u001b[0;32m----> 1\u001b[0m result \u001b[38;5;241m=\u001b[39m \u001b[43mdivide\u001b[49m\u001b[43m(\u001b[49m\u001b[38;5;241;43m10\u001b[39;49m\u001b[43m,\u001b[49m\u001b[43m \u001b[49m\u001b[38;5;241;43m0\u001b[39;49m\u001b[43m)\u001b[49m\n",
            "Cell \u001b[0;32mIn[10], line 2\u001b[0m, in \u001b[0;36mdivide\u001b[0;34m(a, b)\u001b[0m\n\u001b[1;32m      1\u001b[0m \u001b[38;5;28;01mdef\u001b[39;00m \u001b[38;5;21mdivide\u001b[39m(a, b):\n\u001b[0;32m----> 2\u001b[0m     \u001b[38;5;28;01mreturn\u001b[39;00m \u001b[43ma\u001b[49m\u001b[43m \u001b[49m\u001b[38;5;241;43m/\u001b[39;49m\u001b[43m \u001b[49m\u001b[43mb\u001b[49m\n",
            "\u001b[0;31mZeroDivisionError\u001b[0m: division by zero"
          ],
          "output_type": "error"
        }
      ],
      "execution_count": 11
    },
    {
      "cell_type": "markdown",
      "source": "4. (4б) Перевизначте функцію так, щоби у випадку ділення на 0 функція повертала None, а в решті випадків - результат розрахунків.",
      "metadata": {
        "id": "QyimWgW8A43-"
      }
    },
    {
      "cell_type": "code",
      "source": "def divide(a, b):\n    if (b == 0):\n        return None\n    return a / b\n\nresult = divide(10, 0)\nprint(result)",
      "metadata": {
        "id": "7VIODtSjA8Ek",
        "trusted": true
      },
      "outputs": [
        {
          "name": "stdout",
          "text": "None\n",
          "output_type": "stream"
        }
      ],
      "execution_count": 12
    },
    {
      "cell_type": "markdown",
      "source": "5. (5б) Визначте функцію, що віднімає одне число від іншого (підказка: це буде 2 аргументи функції). При чому, якщо не визначити, скільки саме має бути віднято від числа, за замовчуванням має відніматися 1. Викличте функцію, передаючи тільки один аргумент.",
      "metadata": {
        "id": "Y8mN0GfkA81l"
      }
    },
    {
      "cell_type": "code",
      "source": "def subtract(a, b=1):\n    return a - b\n    \nprint(subtract(3))",
      "metadata": {
        "id": "vg1kxkdgBA50",
        "trusted": true
      },
      "outputs": [
        {
          "name": "stdout",
          "text": "2\n",
          "output_type": "stream"
        }
      ],
      "execution_count": 13
    },
    {
      "cell_type": "markdown",
      "source": "6. (7б) Визначте функцію, яка приймає iterable (ітерабельний обʼєкт, напр. список), що складається з 7ми рядкових значень - назв погодних умов (напр. \"sunny\") за кожен день у тижні. Повертає функція словник, де ключами є рядки з погодними умовами, а значеннями - кількість разів, скільки дана погода була протягом тижня (напр. {'sunny': 1, ...}). Викличте цю функцію та виведіть результат її роботи на екран.",
      "metadata": {
        "id": "D3mwQGNOBBs4"
      }
    },
    {
      "cell_type": "code",
      "source": "def count_weather_conditions(conditions):\n    weather_count = {}\n    \n    for condition in conditions:\n        if condition in weather_count:\n            weather_count[condition] += 1\n        else:\n            weather_count[condition] = 1\n    return weather_count\n\nweek_weather = [\"sunny\", \"rainy\", \"sunny\", \"cloudy\", \"sunny\", \"rainy\", \"cloudy\"]\nresult = count_weather_conditions(week_weather)\n\nprint(result)",
      "metadata": {
        "id": "OsWm-hKcBFyn",
        "trusted": true
      },
      "outputs": [
        {
          "name": "stdout",
          "text": "{'sunny': 3, 'rainy': 2, 'cloudy': 2}\n",
          "output_type": "stream"
        }
      ],
      "execution_count": 14
    },
    {
      "cell_type": "markdown",
      "source": "7. (15б) Напишіть програму, яка б шукала необхідне число у впорядкованому списку цілочислених значень, де\nчисло має вводитись з консолі.\nвласне алгоритм пошуку винесений в окрему функцію, яка повертає булеве значення (знайдено число - True, не знайдено - False).\nв залежності від результату функції, виведіть на екран повідомлення про успішний або ж неуспішний пошук.\nЗауваження: використовувати оператор in заборонено.",
      "metadata": {
        "id": "RMiCcdOsBKQT"
      }
    },
    {
      "cell_type": "code",
      "source": "def binary_search(arr, target):\n    left, right = 0, len(arr) - 1\n    while left <= right:\n        mid = (left + right) // 2\n        if arr[mid] == target:\n            return True\n        elif arr[mid] < target:\n            left = mid + 1\n        else:\n            right = mid - 1\n    return False\n\narr = [1, 3, 5, 7, 9, 11, 13, 15, 17, 19]\n#target = -3\ntarget = int(input(\"Enter a number to search for:\"))\n\nfound = binary_search(arr, target)\n\nif found:\n    print(f\"The number {target} is found in the list.\")\nelse:\n    print(f\"The umber {target} is not found in the list.\")",
      "metadata": {
        "id": "UNCZg65OBOy-",
        "trusted": true
      },
      "outputs": [
        {
          "ename": "<class 'TypeError'>",
          "evalue": "int() argument must be a string, a bytes-like object or a real number, not 'PyodideFuture'",
          "traceback": [
            "\u001b[0;31m---------------------------------------------------------------------------\u001b[0m",
            "\u001b[0;31mTypeError\u001b[0m                                 Traceback (most recent call last)",
            "Cell \u001b[0;32mIn[15], line 15\u001b[0m\n\u001b[1;32m     13\u001b[0m arr \u001b[38;5;241m=\u001b[39m [\u001b[38;5;241m1\u001b[39m, \u001b[38;5;241m3\u001b[39m, \u001b[38;5;241m5\u001b[39m, \u001b[38;5;241m7\u001b[39m, \u001b[38;5;241m9\u001b[39m, \u001b[38;5;241m11\u001b[39m, \u001b[38;5;241m13\u001b[39m, \u001b[38;5;241m15\u001b[39m, \u001b[38;5;241m17\u001b[39m, \u001b[38;5;241m19\u001b[39m]\n\u001b[1;32m     14\u001b[0m \u001b[38;5;66;03m#target = -3\u001b[39;00m\n\u001b[0;32m---> 15\u001b[0m target \u001b[38;5;241m=\u001b[39m \u001b[38;5;28;43mint\u001b[39;49m\u001b[43m(\u001b[49m\u001b[38;5;28;43minput\u001b[39;49m\u001b[43m(\u001b[49m\u001b[38;5;124;43m\"\u001b[39;49m\u001b[38;5;124;43mEnter a number to search for:\u001b[39;49m\u001b[38;5;124;43m\"\u001b[39;49m\u001b[43m)\u001b[49m\u001b[43m)\u001b[49m\n\u001b[1;32m     17\u001b[0m found \u001b[38;5;241m=\u001b[39m binary_search(arr, target)\n\u001b[1;32m     19\u001b[0m \u001b[38;5;28;01mif\u001b[39;00m found:\n",
            "\u001b[0;31mTypeError\u001b[0m: int() argument must be a string, a bytes-like object or a real number, not 'PyodideFuture'"
          ],
          "output_type": "error"
        }
      ],
      "execution_count": 15
    },
    {
      "cell_type": "markdown",
      "source": "# II. Lambda functions.",
      "metadata": {
        "id": "Ae1n_OvLBTsy"
      }
    },
    {
      "cell_type": "markdown",
      "source": "8. (4б) В яких випадках варто використовувати лямбда-функції?",
      "metadata": {
        "id": "xaD_wSlaCWen"
      }
    },
    {
      "cell_type": "markdown",
      "source": "* Лямбда-функції можна використовувати для визначення функцій з одним виразом. Наприклад, можна використовувати їх для визначення функцій, які повертають значення залежно від вхідних даних. Також лямбда-функції можна передавати як аргументи іншим функціям, можна використовувати їх з функціями map, filter або sorted.",
      "metadata": {
        "id": "42MB6OoLCakR"
      }
    },
    {
      "cell_type": "markdown",
      "source": "9. (9б) Визначте список з рядками. Після цього визначте анонімну функцію для отримання першого символу у верхньому регістрі для кожного рядка списку.\nПідказка: використовуйте анонімну функцію в якості агрумента до вбудованої ф-ції, яка створена для застосування функцій над iterable обʼєктами. Результат виведіть на екран у вигляді кортежу.",
      "metadata": {
        "id": "USrzrk7GCedk"
      }
    },
    {
      "cell_type": "code",
      "source": "strings = [\"apple\", \"banana\", \"cherry\"]\n\nupper_first_char = lambda s: s[0].upper()\n\nresult = tuple(map(upper_first_char, strings))\n\nprint(result)",
      "metadata": {
        "id": "M8QWUsMlCjWH",
        "trusted": true
      },
      "outputs": [
        {
          "name": "stdout",
          "text": "('A', 'B', 'C')\n",
          "output_type": "stream"
        }
      ],
      "execution_count": 3
    },
    {
      "cell_type": "markdown",
      "source": "10. (10б) Визначте список з числовими значеннями (і цілими, і з рухомою комою). а) Відфільтруйте всі числа, які діляться націло на 3 за допомогою вбудованої функції та анонімної функції в якості аргумента). Збережіть результат у змінній, не приводяти явно до будь-якого типу. б) Використовуючи результат на кроці 12.а у якості аргументу, та за допомогою лямбда-функції в якості іншого аргументу до вбудованої функції, додайте до кожного елементу число 1 та опісля зведіть у квадрат. Остаточний результат приведіть явно до списку та виведіть на екран.",
      "metadata": {
        "id": "9fyUhXOoCtGp"
      }
    },
    {
      "cell_type": "code",
      "source": "numbers = [1, 2, 3, 4, 5, 6, 7, 8, 9, 10]\n\nfiltered_numbers = filter(lambda x: x % 3 == 0, numbers)\n\nresult = list(map(lambda y: (y + 1) ** 2, filtered_numbers))\n\nprint(result)\n",
      "metadata": {
        "id": "exEx2_okCsql",
        "trusted": true
      },
      "outputs": [
        {
          "name": "stdout",
          "text": "[16, 49, 100]\n",
          "output_type": "stream"
        }
      ],
      "execution_count": 7
    },
    {
      "cell_type": "markdown",
      "source": "# III. Decorators.",
      "metadata": {
        "id": "o_x8cG_WC7jp"
      }
    },
    {
      "cell_type": "markdown",
      "source": "11. (11б) Визначте декоратор, який би виводив у консоль повідомлення про початок роботи і назву функції (напр. my_function._ _ name _ _), а після відпрацювання функції - повідомлення про закінчення роботи і назву функції, що задекорована.",
      "metadata": {
        "id": "mhxS4-mfC8LQ"
      }
    },
    {
      "cell_type": "code",
      "source": "def my_decorator(func):\n    def wrapper(*args, **kwargs):\n        print(f\"Start of function {func.__name__}\")\n        result = func(*args, **kwargs)\n        print(f\"End of function {func.__name__}\")\n        return result\n    return wrapper\n\n@my_decorator\ndef my_function(x, y):\n    return x + y\n\nresult = my_function(1, 2)\nprint(result)",
      "metadata": {
        "id": "srd1ygWjDGhO",
        "trusted": true
      },
      "outputs": [
        {
          "name": "stdout",
          "text": "Start of function my_function\nEnd of function my_function\n3\n",
          "output_type": "stream"
        }
      ],
      "execution_count": 9
    },
    {
      "cell_type": "markdown",
      "source": "12. (4б) Задекоруйте двома різними способами функції з завдання 4 та 5 декоратором із завдання 11. (**УВАГА**: не декоруйте функції двічі!).",
      "metadata": {
        "id": "rxGZwVBiDph3"
      }
    },
    {
      "cell_type": "code",
      "source": "@my_decorator\ndef divide_decorated(a, b):\n    return divide(a, b)\n\n@my_decorator\ndef subtract_decorated(a, b=1):\n    return subtract(a, b)",
      "metadata": {
        "id": "06lj7eq_DwZe",
        "trusted": true
      },
      "outputs": [],
      "execution_count": 16
    },
    {
      "cell_type": "markdown",
      "source": "13. (2б) Викличте одну з задекорованих функцій і виведіть її результат на екран.",
      "metadata": {
        "id": "P0ep1urBDzf-"
      }
    },
    {
      "cell_type": "code",
      "source": "result = divide_decorated(10, 0)\nprint(result)",
      "metadata": {
        "id": "1QvTw0ctD0S3",
        "trusted": true
      },
      "outputs": [
        {
          "name": "stdout",
          "text": "Start of function divide_decorated\nEnd of function divide_decorated\nNone\n",
          "output_type": "stream"
        }
      ],
      "execution_count": 17
    },
    {
      "cell_type": "markdown",
      "source": "# IV. Recursion.",
      "metadata": {
        "id": "poECCpuoD2S9"
      }
    },
    {
      "cell_type": "markdown",
      "source": "14. (4б) Назвіть дві частини функції, які є обовʼязковими для того, щоб називати її рекурсивною.",
      "metadata": {
        "id": "DqkURfdsD7MY"
      }
    },
    {
      "cell_type": "markdown",
      "source": "* Частина функції, де вона викликає саму себе, е дозволяє функції виконувати рекурсивний виклик, тобто викликати себе знову та знову.\nБазовий випадок - це та частина функції, яка визначає, коли рекурсивний процес має завершитися. Без базового випадку функція може викликати себе безкінечно, що призведе до переповнення стеку.",
      "metadata": {
        "id": "HYW6ttIeIQIU"
      }
    },
    {
      "cell_type": "markdown",
      "source": "15. (15б) Визначте функцію, яка рекурсивно реалізовує пошук числа у послідовності Фібоначчі за її індексом (нумерація починається з нуля). Наприклад, потрібно знайти перше число у послідовності, тоді функція прийматиме 0 у якості аргумента і повертатиме 1, якщо ж знаходити третє число (індекс 2) послідовності, то функція повертатиме 2, якщо ж знаходити десяте число (індекс 9), то функція повертатиме 55.",
      "metadata": {
        "id": "WYVt20UmEA35"
      }
    },
    {
      "cell_type": "code",
      "source": "def fibonacci(index):\n    if index == 0:\n        return 0\n    elif index == 1:\n        return 1\n    else:\n        return fibonacci(index - 1) + fibonacci(index - 2)\n\nfor i in range(20):\n    result1 = fibonacci(0)\n    print(result1)",
      "metadata": {
        "id": "xIMhp05AIpV_",
        "trusted": true
      },
      "outputs": [
        {
          "name": "stdout",
          "text": "0\n0\n0\n0\n0\n0\n0\n0\n0\n0\n0\n0\n0\n0\n0\n0\n0\n0\n0\n0\n",
          "output_type": "stream"
        }
      ],
      "execution_count": 21
    },
    {
      "cell_type": "markdown",
      "source": "# Вітаю! Ви велика(ий) молодець, що впоралась(вся). Похваліть себе та побалуйте чимось приємним. Я Вами пишаюся.",
      "metadata": {
        "id": "ytXC8n_4Ip0W"
      }
    }
  ]
}