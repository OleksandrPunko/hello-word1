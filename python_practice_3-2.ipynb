{
  "metadata": {
    "kernelspec": {
      "name": "python",
      "display_name": "Python (Pyodide)",
      "language": "python"
    },
    "language_info": {
      "codemirror_mode": {
        "name": "python",
        "version": 3
      },
      "file_extension": ".py",
      "mimetype": "text/x-python",
      "name": "python",
      "nbconvert_exporter": "python",
      "pygments_lexer": "ipython3",
      "version": "3.8"
    },
    "colab": {
      "provenance": []
    }
  },
  "nbformat_minor": 4,
  "nbformat": 4,
  "cells": [
    {
      "cell_type": "markdown",
      "source": "# I. Оператори порівняння та логічні оператори. Умови.",
      "metadata": {
        "id": "qDEi2Pi-4yUC"
      }
    },
    {
      "cell_type": "markdown",
      "source": "1. Створіть цілочисленну змінну зі своїм щасливим або улюбленим числом. Напишіть код, який би автоматизовував наступну задачу.\n\nЯкщо число парне, помножте його на 2 та виведіть результат на екран.\n\nАле якщо число непарне, помножте його на 3 та додайте 1 і виведіть на екран.",
      "metadata": {
        "id": "3v8D4Dkm43Ua"
      }
    },
    {
      "cell_type": "code",
      "source": "my_happy_number = 6\n\nif (my_happy_number % 2 == 0):\n    my_happy_number *= 2\n    print(my_happy_number)\nelse:\n    my_happy_number = my_happy_number * 3 + 1\n    print(my_happy_number)",
      "metadata": {
        "id": "dlVjc-Nu4bmb",
        "trusted": true
      },
      "outputs": [
        {
          "name": "stdout",
          "text": "12\n",
          "output_type": "stream"
        }
      ],
      "execution_count": 6
    },
    {
      "cell_type": "markdown",
      "source": "2. Створіть змінну, що посилається на список. Якщо список пустий, додайте будь-який елемент у кінець списку. Якщо ж ні, то нічого не робіть.",
      "metadata": {
        "id": "H669P0QK5BI_"
      }
    },
    {
      "cell_type": "code",
      "source": "my_list = []\n\nif (not my_list):\n    my_list.append(\"Any ellement\")\nprint(my_list)",
      "metadata": {
        "id": "ecWlfra45f6E",
        "trusted": true
      },
      "outputs": [
        {
          "name": "stdout",
          "text": "['Any ellement']\n",
          "output_type": "stream"
        }
      ],
      "execution_count": 11
    },
    {
      "cell_type": "markdown",
      "source": "3. Створіть рядок зі своїм імʼям латинкою. Напишіть код, який би автоматизовував наступну задачу.\n\nЯкщо в імені є літера \"а\"\n або \"i\", Виведіть на екран повідомлення \"A or I is in the name\".\n\n\n\nЯкщо в імені є літери \"o\" та \"n\", Виведіть на екран повідомлення \"O and N is in the name\".\n\nТакож якщо в імені немає літери \"о\", але є \"n\", Виведіть на екран повідомлення \"Only N is in the name\".\n\nВ решті випадків виведіть на екран повідомлення \"There is no N in the name, but there might be O\".\n\nЗверніть увагу, що, наприклад, для імені \"Antonina\" буде виведено два повідомлення.",
      "metadata": {
        "id": "h9Y3cMUd5h85"
      }
    },
    {
      "cell_type": "code",
      "source": "name = \"Oleksandr\"\n\nif (\"a\" in name or \"i\" in name):\n    print(\"A or I is in the name\")\n    \nif \"O\" in name and \"n\" in name:\n    print(\"O and N is in the name\")\n\nif \"n\" in name and \"O\" not in name:\n    print(\"Only N is in the name\")\n\nif \"O\" in name and \"n\" not in name:\n    print(\"There is no N in the name, but there might be O\")\n",
      "metadata": {
        "id": "bUH4LUx35u52",
        "trusted": true
      },
      "outputs": [
        {
          "name": "stdout",
          "text": "A or I is in the name\nO and N is in the name\n",
          "output_type": "stream"
        }
      ],
      "execution_count": 17
    },
    {
      "cell_type": "markdown",
      "source": "# II. Comprehensions.",
      "metadata": {
        "id": "wPCXJv4354cU"
      }
    },
    {
      "cell_type": "markdown",
      "source": "4. Створіть список, використовуючи if (не if-else), range та comprehension.",
      "metadata": {
        "id": "jULLW5jN55Pw"
      }
    },
    {
      "cell_type": "code",
      "source": "squares = [x ** 2 for x in range(10) if x % 2 == 0]\n\nprint(squares)",
      "metadata": {
        "id": "mlZalnVC6W3F",
        "trusted": true
      },
      "outputs": [
        {
          "name": "stdout",
          "text": "[0, 4, 16, 36, 64]\n",
          "output_type": "stream"
        }
      ],
      "execution_count": 18
    },
    {
      "cell_type": "markdown",
      "source": "5. Створіть словник, використовуючи dict comprehension, що містить if else. Коли слід використовувати comprehensions, а коли їх слід уникати?",
      "metadata": {
        "id": "LqhEQ4JW6XcC"
      }
    },
    {
      "cell_type": "code",
      "source": "squares_dict = {x: x ** 2 if x % 2 == 0 else x ** 3 for x in range(10)}\n\nprint(squares_dict)",
      "metadata": {
        "id": "1yVaFbOs6hta",
        "trusted": true
      },
      "outputs": [
        {
          "name": "stdout",
          "text": "{0: 0, 1: 1, 2: 4, 3: 27, 4: 16, 5: 125, 6: 36, 7: 343, 8: 64, 9: 729}\n",
          "output_type": "stream"
        }
      ],
      "execution_count": 19
    },
    {
      "cell_type": "markdown",
      "source": "*Comprehensions слід використовувати, коли вони полегшують читання коду та зроблюють його більш зрозумілим. Вони дозволяють створювати списки, множини та словники за допомогою одного рядка коду, що зазвичай є більш зручним та ефективним, ніж використання циклів. Однак, якщо comprehensions стають складними або важкими для розуміння, можна відмовитися від їх використання на користь звичайних циклів.",
      "metadata": {
        "id": "wbkzNhKq6hzz"
      }
    },
    {
      "cell_type": "markdown",
      "source": "6. Створіть список з рядками та запишіть його у змінну. Створіть ще один список на основі попереднього, де кожен рядок буде містити тільки три перших заглавних символи. Наприклад: ['hello', 'i', 'dont', 'care'] -> ['HEL', 'I', 'DON', 'CAR']. Використання comprehensions обовʼязкове.",
      "metadata": {
        "id": "ZlqB8G3G6lHP"
      }
    },
    {
      "cell_type": "code",
      "source": "strings = ['h', 'give', 'me', 'an', 'A', 'for', 'the', 'course']\n\nnew_strings = [s[:3].upper() for s in strings]\nprint(new_strings)",
      "metadata": {
        "id": "nw6rz0bR60VC",
        "trusted": true
      },
      "outputs": [
        {
          "name": "stdout",
          "text": "['H', 'GIV', 'ME', 'AN', 'A', 'FOR', 'THE', 'COU']\n",
          "output_type": "stream"
        }
      ],
      "execution_count": 20
    },
    {
      "cell_type": "markdown",
      "source": "# III. Цикли.",
      "metadata": {
        "id": "Tj573IAH64Fz"
      }
    },
    {
      "cell_type": "markdown",
      "source": "7. Продемонструйте роботу циклу while. Не можна використовувати True для запуску циклу, щоб уникнути безкінечного циклу!",
      "metadata": {
        "id": "tN_33xdE65H5"
      }
    },
    {
      "cell_type": "code",
      "source": "ehh = [\"I\", \"alwase\", \"use\", \"while\", \"true\", \"loop\", \"but\", \"i\", \"won't\", \"more\"]\n\nwhile (len(ehh) != 0):\n    print(ehh)\n    ehh.pop()",
      "metadata": {
        "id": "Kd9FO6yG63P5",
        "trusted": true
      },
      "outputs": [
        {
          "name": "stdout",
          "text": "['I', 'alwase', 'use', 'while', 'true', 'loop', 'but', 'i', \"won't\", 'more']\n['I', 'alwase', 'use', 'while', 'true', 'loop', 'but', 'i', \"won't\"]\n['I', 'alwase', 'use', 'while', 'true', 'loop', 'but', 'i']\n['I', 'alwase', 'use', 'while', 'true', 'loop', 'but']\n['I', 'alwase', 'use', 'while', 'true', 'loop']\n['I', 'alwase', 'use', 'while', 'true']\n['I', 'alwase', 'use', 'while']\n['I', 'alwase', 'use']\n['I', 'alwase']\n['I']\n",
          "output_type": "stream"
        }
      ],
      "execution_count": 23
    },
    {
      "cell_type": "markdown",
      "source": "8. Напишіть програму, яка виведе на екран непарні числа в діапазоні від 0 до 20 включно.",
      "metadata": {
        "id": "x2CmfZO-7pW0"
      }
    },
    {
      "cell_type": "code",
      "source": "first_number = 0\n\nwhile (first_number <= 20):\n    if (first_number % 2 == 0):\n        print(first_number)\n    first_number += 1",
      "metadata": {
        "id": "aCSRYA6s7tkF",
        "trusted": true
      },
      "outputs": [
        {
          "name": "stdout",
          "text": "0\n2\n4\n6\n8\n10\n12\n14\n16\n18\n20\n",
          "output_type": "stream"
        }
      ],
      "execution_count": 3
    },
    {
      "cell_type": "markdown",
      "source": "9. Створіть список з елементами булевого типу або None. Використовуючи цикли, отримайте в результаті список з кортежами, де перший елемент кортежу - індекс(ціле число), а другий елемент - відповідне значення з першого списку.\n\nНаприклад, [True, True, None, False] -> [(0, True), (1, True), (2, None), (3, False)]",
      "metadata": {
        "id": "MDWNocZD7t_B"
      }
    },
    {
      "cell_type": "code",
      "source": "bool_list = [True, True, None, False]\n\ntuple_list = [(i, bool_list[i]) for i in range(len(bool_list))]\nprint(tuple_list)",
      "metadata": {
        "id": "0EUyjMdp7yfh",
        "trusted": true
      },
      "outputs": [
        {
          "name": "stdout",
          "text": "[(0, True), (1, True), (2, None), (3, False)]\n",
          "output_type": "stream"
        }
      ],
      "execution_count": 4
    },
    {
      "cell_type": "markdown",
      "source": "10. Створіть словник, де ключі - назви книжок, а значення - їхня кількість у наявності в Вашій міні-бібліотеці. Бібліотека має містити щонайменше 6 книжок (6 пар значень у словнику) і щонайбільше 10 (пар значень). Використовуючи цикли, оновіть словник (не створюйте новий) так, щоби кількість книг у наявності збільшилося на 5 кожної книги. Наприклад,\n{'It': 3, 'Fault stars': 10, 'Bible': 17, 'Psychological romance': 4, 'Harry Potter': 13} -> {'It': 8, 'Fault stars': 15, 'Bible': 22, 'Psychological romance': 9, 'Harry Potter': 18}",
      "metadata": {
        "id": "-6XUqlcG7zKs"
      }
    },
    {
      "cell_type": "code",
      "source": "books = {'It': 3, 'Fault stars': 10, 'Bible': 17, 'Psychological romance': 4, 'Harry Potter': 13}\n\nfor book in books:\n    books[book] += 5\n\nprint(books)\n",
      "metadata": {
        "id": "Ceoj9wwb791q",
        "trusted": true
      },
      "outputs": [
        {
          "name": "stdout",
          "text": "{'It': 8, 'Fault stars': 15, 'Bible': 22, 'Psychological romance': 9, 'Harry Potter': 18}\n",
          "output_type": "stream"
        }
      ],
      "execution_count": 5
    },
    {
      "cell_type": "markdown",
      "source": "11. Визначте цілочислену змінну n, що належить проміжку від 4 до 10 включно. Використовуючи цикли, виведіть в консоль наступний патерн.\n\n#\n##\n###\n####\n\n... #*n\n",
      "metadata": {
        "id": "QLzyJM288AC7"
      }
    },
    {
      "cell_type": "code",
      "source": "n = 10\n\nfor i in range(n):\n    print('.' * (n - i - 1) + '*' * (i + 1))",
      "metadata": {
        "id": "KOpng87s8Duz",
        "trusted": true
      },
      "outputs": [
        {
          "name": "stdout",
          "text": ".........*\n........**\n.......***\n......****\n.....*****\n....******\n...*******\n..********\n.*********\n**********\n",
          "output_type": "stream"
        }
      ],
      "execution_count": 8
    },
    {
      "cell_type": "markdown",
      "source": "12. Гра \"Нумо вгадай\".\nРозробіть просту гру, де користувач має вгадати випадкове число від 1 до 100. Для генерації випадкового числа використовуйте функцію random.randint(a, b) (тут a та b включно). Для отримання числа з консолі використовуйте функцію input(), результат якої обовʼязково явно приведіть до типу int.\n\nПідказка: використовуйте цикл while та умови if-else, щоб повідомити користувачу піказки (напр. \"Більше\", \"Менше\") поки користувач не вгадає. По завершенню виведіть кількість спроб, які знадобилися для вгадування.",
      "metadata": {
        "id": "_bd-bqAT8EHn"
      }
    },
    {
      "cell_type": "code",
      "source": "import random\n\nrandom_number = random.randint(1, 101)\n\nattempts = 0\nguess = int(input(\"Вгадайте число від 1 до 100: \"))\n\nwhile (guess != random_number):\n    attempts += 1\n\n    if (guess < random_number):\n        print(\"Більше\")\n    else:\n        print(\"Менше\")\n    guess = int(input(\"Вгадайте число від 1 до 100: \"))\n        \nprint(f\"Ви вгадали число {random_number} за {attempts} спроб\")\n# Я не знаю, що не так із цим IDE, але в мене в PyCharm все працює, спо",
      "metadata": {
        "id": "IK9nnxFK8Hkl",
        "trusted": true
      },
      "outputs": [
        {
          "ename": "<class 'TypeError'>",
          "evalue": "int() argument must be a string, a bytes-like object or a real number, not 'PyodideFuture'",
          "traceback": [
            "\u001b[0;31m---------------------------------------------------------------------------\u001b[0m",
            "\u001b[0;31mTypeError\u001b[0m                                 Traceback (most recent call last)",
            "Cell \u001b[0;32mIn[5], line 6\u001b[0m\n\u001b[1;32m      3\u001b[0m random_number \u001b[38;5;241m=\u001b[39m random\u001b[38;5;241m.\u001b[39mrandint(\u001b[38;5;241m1\u001b[39m, \u001b[38;5;241m101\u001b[39m)\n\u001b[1;32m      5\u001b[0m attempts \u001b[38;5;241m=\u001b[39m \u001b[38;5;241m0\u001b[39m\n\u001b[0;32m----> 6\u001b[0m guess \u001b[38;5;241m=\u001b[39m \u001b[38;5;28;43mint\u001b[39;49m\u001b[43m(\u001b[49m\u001b[38;5;28;43minput\u001b[39;49m\u001b[43m(\u001b[49m\u001b[38;5;124;43m\"\u001b[39;49m\u001b[38;5;124;43mВгадайте число від 1 до 100: \u001b[39;49m\u001b[38;5;124;43m\"\u001b[39;49m\u001b[43m)\u001b[49m\u001b[43m)\u001b[49m\n\u001b[1;32m      8\u001b[0m \u001b[38;5;28;01mwhile\u001b[39;00m (guess \u001b[38;5;241m!=\u001b[39m random_number):\n\u001b[1;32m      9\u001b[0m     attempts \u001b[38;5;241m+\u001b[39m\u001b[38;5;241m=\u001b[39m \u001b[38;5;241m1\u001b[39m\n",
            "\u001b[0;31mTypeError\u001b[0m: int() argument must be a string, a bytes-like object or a real number, not 'PyodideFuture'"
          ],
          "output_type": "error"
        }
      ],
      "execution_count": 5
    },
    {
      "cell_type": "markdown",
      "source": "# Вітаю! Ви велика(ий) молодець, що впоралась(вся). Похваліть себе та побалуйте чимось приємним. Я Вами пишаюся.",
      "metadata": {
        "id": "PXoXWb7Z8IGi"
      }
    }
  ]
}