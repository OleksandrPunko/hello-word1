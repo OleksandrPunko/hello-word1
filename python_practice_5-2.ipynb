{
  "metadata": {
    "kernelspec": {
      "name": "python",
      "display_name": "Python (Pyodide)",
      "language": "python"
    },
    "language_info": {
      "codemirror_mode": {
        "name": "python",
        "version": 3
      },
      "file_extension": ".py",
      "mimetype": "text/x-python",
      "name": "python",
      "nbconvert_exporter": "python",
      "pygments_lexer": "ipython3",
      "version": "3.8"
    },
    "colab": {
      "provenance": []
    }
  },
  "nbformat_minor": 4,
  "nbformat": 4,
  "cells": [
    {
      "cell_type": "markdown",
      "source": "# I. OOP",
      "metadata": {
        "id": "5qV_sehzFCTp"
      }
    },
    {
      "cell_type": "markdown",
      "source": "1. (6б). Створіть клас Animal, додайте три атрибути, один з яких має значення за замовчуванням та два методи на свій розсуд.",
      "metadata": {
        "id": "tx_U_hOALyfg"
      }
    },
    {
      "cell_type": "code",
      "source": "class Animal:\n    def __init__(self, species, sound='Ррррр', legs=4):\n        self.species = species\n        self.sound = sound\n        self.legs = legs\n\n    def make_sound(self):\n        print(f\"{self.species} сказав {self.sound}!\")\n\n    def move(self):\n        print(f\" {self.species} ходить на {self.legs} ногах.\")\n",
      "metadata": {
        "id": "-Vf895KaL88N",
        "trusted": true
      },
      "outputs": [],
      "execution_count": 22
    },
    {
      "cell_type": "markdown",
      "source": "2. (2б). Створіть два обʼєкти цього класу, де один з обʼєктів створюється із дефолтним значенням атрибуту. На одному обʼєкті отримайте значення його атрибуту, а на іншому викличте один з його методів.",
      "metadata": {
        "id": "X_UlOMB0L93w"
      }
    },
    {
      "cell_type": "code",
      "source": "animal1 = Animal(species='Лев')\n\nanimal2 = Animal(species='Жаба', sound='Ква-ква', legs=4)\n\nprint(animal1.species)\n\nanimal2.make_sound()",
      "metadata": {
        "id": "7gBu0ESOMCpG",
        "trusted": true
      },
      "outputs": [
        {
          "name": "stdout",
          "text": "Лев\nЖаба сказав Ква-ква!\n",
          "output_type": "stream"
        }
      ],
      "execution_count": 23
    },
    {
      "cell_type": "markdown",
      "source": "3. (5б). Створіть клас, де атрибути мають різні рівні доступу. Спробуйте отримати їхні значення та опишіть результати.",
      "metadata": {
        "id": "HoqSCZt1MHn5"
      }
    },
    {
      "cell_type": "code",
      "source": "class MyClass:\n    def __init__(self):\n        self.public_attribute = \"Public\"\n        self._protected_attribute = \"Protected\"\n        self.__private_attribute = \"Private\"\n\n    def get_private_attribute(self):\n        return self.__private_attribute",
      "metadata": {
        "id": "r9b3vJxBMSPV",
        "trusted": true
      },
      "outputs": [],
      "execution_count": 3
    },
    {
      "cell_type": "code",
      "source": "obj = MyClass()\n\nprint(obj.public_attribute)\n\nprint(obj._protected_attribute)\n\nprint(obj.get_private_attribute())",
      "metadata": {
        "trusted": true
      },
      "outputs": [
        {
          "name": "stdout",
          "text": "Public\nProtected\nPrivate\n",
          "output_type": "stream"
        }
      ],
      "execution_count": 5
    },
    {
      "cell_type": "markdown",
      "source": "4. (7б). Як ви розумієте термін self? Для чого використовується метод __init __?",
      "metadata": {
        "id": "5op2m2vgMSkZ"
      }
    },
    {
      "cell_type": "markdown",
      "source": "*   Термін self використовується в ООП (об'єктно-орієнтованому програмуванні) для посилання на поточний об'єкт класу. Коли ми викликаємо метод класу, self автоматично передається як перший аргумент методу, щоб можна було отримати доступ до атрибутів та методів цього об'єкта.\n    Метод init використовується для ініціалізації нового об'єкта класу. Це спеціальний метод, який викликається автоматично при створенні нового об'єкта класу. Він приймає self та інші аргументи, які ми хочемо передати при створенні об'єкта, і встановлює початкові значення атрибутів об'єкта.",
      "metadata": {
        "id": "DyiPqNRvMasx"
      }
    },
    {
      "cell_type": "markdown",
      "source": "5. (9б). Створіть клас Фігура без атрибутів, з методом get_area для отримання площі фігури, що повертає 0 та __add __, який приймає self та other в якості аргументів, а повертає суму площин фігур self та other.",
      "metadata": {
        "id": "-6X8EGfjMd2y"
      }
    },
    {
      "cell_type": "code",
      "source": "class Figure:\n    def get_area(self):\n        return 0\n\n    def __add__(self, other):\n        return self.get_area() + other.get_area()",
      "metadata": {
        "id": "4rvO_wYUMaEr",
        "trusted": true
      },
      "outputs": [],
      "execution_count": 11
    },
    {
      "cell_type": "markdown",
      "source": "6. (11б). Створіть 2 дочірніх класи від Фігури: Трикутник та Коло, які мають атрибути, необхідні для розрахунку площин. Визначте метод get_area в кожному з них так, щоби вони розраховували площу в залежності від формули для кожного типу фігури. Створіть обʼєкт класу Трикутник та обʼєкт класу Коло. Виконайте операцію суми за допомогою оператора + між ними.",
      "metadata": {
        "id": "SFcKnnv5Mo_z"
      }
    },
    {
      "cell_type": "code",
      "source": "import math as m\n\nclass Triangle(Figure):\n    def __init__(self, base, height):\n        self.base = base\n        self.height = height\n\n    def get_area(self):\n        return 0.5 * self.base * self.height\n\nclass Circle(Figure):\n    def __init__(self, radius):\n        self.radius = radius\n\n    def get_area(self):\n        return m.pi * self.radius ** 2\n\ntriangle = Triangle(base=5, height=10)\ncircle = Circle(radius=3)\n\nresult = triangle + circle\nprint(result)",
      "metadata": {
        "id": "H3GVNr69Muf3",
        "trusted": true
      },
      "outputs": [
        {
          "name": "stdout",
          "text": "53.27433388230814\n",
          "output_type": "stream"
        }
      ],
      "execution_count": 12
    },
    {
      "cell_type": "markdown",
      "source": "7. (3б). Продемонструйте різницю між isinstance та issubclass.",
      "metadata": {
        "id": "HCvR206YMvLK"
      }
    },
    {
      "cell_type": "code",
      "source": "class My_object:\n    pass\n\nclass My_subobject(My_object):\n    pass\n\n# Перевіряю, чи є об'єкт екземпляром класу My_object або його підкласу\nobj = B()\nprint(isinstance(obj, My_object))\n\n# Перевіряю, чи є клас My_subobject підкласом або рівним класу My_object\nprint(issubclass(My_subobject, My_object))",
      "metadata": {
        "id": "L_V1bBvDM0GN",
        "trusted": true
      },
      "outputs": [
        {
          "name": "stdout",
          "text": "False\nTrue\n",
          "output_type": "stream"
        }
      ],
      "execution_count": 25
    },
    {
      "cell_type": "markdown",
      "source": "8. (13б). Створіть клас BankAccount з приватними атрибутами balance та account_number. Реалізуйте методи поповнення та зняття коштів, забезпечивши належну інкапсуляцію. Підказка: використовуйте декоратори property та setter.",
      "metadata": {
        "id": "jjsaBZ-iM0Qq"
      }
    },
    {
      "cell_type": "code",
      "source": "class BankAccount:\n    def __init__(self, account_number, initial_balance=0):\n        self.__account_number = account_number\n        self.__balance = initial_balance\n\n    @property\n    def account_number(self):\n        return self.__account_number\n\n    @property\n    def balance(self):\n        return self.__balance\n\n    @balance.setter\n    def balance(self, new_balance):\n        if new_balance < 0:\n            raise ValueError(\"Баланс не може бути відʼємним числом\")\n        self.__balance = new_balance\n\n    def deposit(self, amount):\n        if amount <= 0:\n            raise ValueError(\"Депозит має бути додатнім числом\")\n        self.__balance += amount\n\n    def withdraw(self, amount):\n        if amount <= 0:\n            raise ValueError(\"Виплата має бути додатнім числом\")\n        if amount > self.__balance:\n            raise ValueError(\"Недостатньо коштів на вашому балансі\")\n        self.__balance -= amount",
      "metadata": {
        "id": "xCvZ7lh8M7YA",
        "trusted": true
      },
      "outputs": [],
      "execution_count": 19
    },
    {
      "cell_type": "markdown",
      "source": "9. (11б). Створіть клас Library, який містить список об'єктів типу Book. Реалізуйте методи для додавання книги, видалення книги та відображення списку книг.",
      "metadata": {
        "id": "tIzL2SJTM8ft"
      }
    },
    {
      "cell_type": "code",
      "source": "class Book:\n    def __init__(self, title, author):\n        self.title = title\n        self.author = author\n\nclass Library:\n    def __init__(self):\n        self.books = []\n\n    def add_book(self, book):\n        self.books.append(book)\n\n    def remove_book(self, title):\n        for book in self.books:\n            if book.title == title:\n                self.books.remove(book)\n                return\n        print(f\"Book with title '{title}' not found.\")\n\n    def display_books(self):\n        if not self.books:\n            print(\"Немає книг в бібліотеці.\")\n            return\n        print(\"Книги в бібліотеці:\")\n        for book in self.books:\n            print(f\"Title: {book.title}, Author: {book.author}\")\n\nlibrary = Library()\n\nbook1 = Book(\"Місто\", \"Валерʼян Підмогильний\")\nlibrary.add_book(book1)\n\nlibrary.remove_book(\"Місто\")\n\nlibrary.display_books()",
      "metadata": {
        "id": "HWxfJKLtNAUZ",
        "trusted": true
      },
      "outputs": [
        {
          "name": "stdout",
          "text": "Немає книг в бібліотеці.\n",
          "output_type": "stream"
        }
      ],
      "execution_count": 18
    },
    {
      "cell_type": "markdown",
      "source": "10. (13б). Створіть клас Person з атрибутами name та age. Створіть ще один клас Employee з такими атрибутами, як department та salary. Створіть клас Manager, який успадковує обидва класи Person та Employee. Продемонструйте використання множинної спадковості, створивши обʼєкт класу Manager та отримавши mro для цього класу.",
      "metadata": {
        "id": "lmV8pAwwNIqu"
      }
    },
    {
      "cell_type": "code",
      "source": "class Person:\n    def __init__ (self, name, age):\n        self.name = name\n        self.age = age\n\nclass Employee:\n    def __init__(self, department, salary):\n        self.department = department\n        self.salary = salary\n\nclass Manager(Person, Employee):\n    def __init__(self, name, age, department, salary):\n        Person.__init__(self, name, age)\n        Employee.__init__(self, department, salary)\n\nmanager = Manager(\"Саша\", 21, \"Студент\", 2550)\nprint(manager.name)\nprint(manager.age)\nprint(manager.department)\nprint(manager.salary)\n\nprint(Manager.mro())",
      "metadata": {
        "id": "R49grKlWNPeN",
        "trusted": true
      },
      "outputs": [
        {
          "name": "stdout",
          "text": "Саша\n21\nСтудент\n2550\n[<class '__main__.Manager'>, <class '__main__.Person'>, <class '__main__.Employee'>, <class 'object'>]\n",
          "output_type": "stream"
        }
      ],
      "execution_count": 2
    },
    {
      "cell_type": "markdown",
      "source": "# II. Iterator",
      "metadata": {
        "id": "dIJyUiNBFG8G"
      }
    },
    {
      "cell_type": "markdown",
      "source": "11. (4б). Визначте рядок(str) з 4ма різними за значенням символами. Створіть ітератор на основі цього рядка. Викличте 5 разів функцію next на ітераторі, 4ри перших з них огорніть у ф-цію print().",
      "metadata": {
        "id": "13vsm0NyKIzL"
      }
    },
    {
      "cell_type": "code",
      "source": "string = \"abcd\"\niterator = iter(string)\n\nfor i in range(4):\n    print(next(iterator))",
      "metadata": {
        "id": "81ntabAkKuz-",
        "trusted": true
      },
      "outputs": [
        {
          "name": "stdout",
          "text": "a\nb\nc\nd\n",
          "output_type": "stream"
        }
      ],
      "execution_count": 13
    },
    {
      "cell_type": "markdown",
      "source": "А що якщо викликати цю ж функцію на рядку?",
      "metadata": {
        "id": "aekWHGXOLRsO"
      }
    },
    {
      "cell_type": "code",
      "source": "print(next(string)) ",
      "metadata": {
        "id": "mxATGsErLV1i",
        "trusted": true
      },
      "outputs": [
        {
          "ename": "<class 'TypeError'>",
          "evalue": "'str' object is not an iterator",
          "traceback": [
            "\u001b[0;31m---------------------------------------------------------------------------\u001b[0m",
            "\u001b[0;31mTypeError\u001b[0m                                 Traceback (most recent call last)",
            "Cell \u001b[0;32mIn[15], line 1\u001b[0m\n\u001b[0;32m----> 1\u001b[0m \u001b[38;5;28mprint\u001b[39m(\u001b[38;5;28;43mnext\u001b[39;49m\u001b[43m(\u001b[49m\u001b[43mstring\u001b[49m\u001b[43m)\u001b[49m) \n",
            "\u001b[0;31mTypeError\u001b[0m: 'str' object is not an iterator"
          ],
          "output_type": "error"
        }
      ],
      "execution_count": 15
    },
    {
      "cell_type": "markdown",
      "source": " 12. (5б). Опишіть своїми словами в одному реченні, як ви розумієте різницю між ітерабельними обʼєктами та ітераторами (можна на прикладі).",
      "metadata": {
        "id": "XwtMEopwJ4pH"
      }
    },
    {
      "cell_type": "markdown",
      "source": "* Ітерабельні обʼєкти - обʼєкти, які можна перебрати за допомогою циклу або ітератора: списки, кортежі, рядки. Ітератори - обʼєкти, які дозволяють послідовно отримувати обʼєкти ітерабельного обʼєкта викликаючи метод next()",
      "metadata": {
        "id": "-sHrODc3KFn8"
      }
    },
    {
      "cell_type": "markdown",
      "source": "13. (11б). Створіть клас, що має визначений Iterator Protocol та при кожному виклику next повертає літери англійської абетки, поки вони не вичерпаються.",
      "metadata": {
        "id": "E9qJWmNbK8Gl"
      }
    },
    {
      "cell_type": "code",
      "source": "class AlphabetIterator():\n    def __init__(self):\n        self.letters = \"abcdefghijklmnopqrstuvwxyz\"\n        self.index = 0\n\n    def __next__(self):\n        if self.index < len(self.letters):\n            letter = self.letters[self.index]\n            self.index += 1\n            return letter\n        else:\n            raise StopIterator\n\nalphabet = AlphabetIterator()\n\nfor i in range(30):\n    print(next(alphabet))",
      "metadata": {
        "id": "cqx-g_RsLo6I",
        "trusted": true
      },
      "outputs": [
        {
          "name": "stdout",
          "text": "a\nb\nc\nd\ne\nf\ng\nh\ni\nj\nk\nl\nm\nn\no\np\nq\nr\ns\nt\nu\nv\nw\nx\ny\nz\n",
          "output_type": "stream"
        },
        {
          "ename": "<class 'NameError'>",
          "evalue": "name 'StopIterator' is not defined",
          "traceback": [
            "\u001b[0;31m---------------------------------------------------------------------------\u001b[0m",
            "\u001b[0;31mNameError\u001b[0m                                 Traceback (most recent call last)",
            "Cell \u001b[0;32mIn[6], line 17\u001b[0m\n\u001b[1;32m     14\u001b[0m alphabet \u001b[38;5;241m=\u001b[39m AlphabetIterator()\n\u001b[1;32m     16\u001b[0m \u001b[38;5;28;01mfor\u001b[39;00m i \u001b[38;5;129;01min\u001b[39;00m \u001b[38;5;28mrange\u001b[39m(\u001b[38;5;241m30\u001b[39m):\n\u001b[0;32m---> 17\u001b[0m     \u001b[38;5;28mprint\u001b[39m(\u001b[38;5;28mnext\u001b[39m(alphabet))\n",
            "Cell \u001b[0;32mIn[6], line 12\u001b[0m, in \u001b[0;36mAlphabetIterator.__next__\u001b[0;34m(self)\u001b[0m\n\u001b[1;32m     10\u001b[0m     \u001b[38;5;28;01mreturn\u001b[39;00m letter\n\u001b[1;32m     11\u001b[0m \u001b[38;5;28;01melse\u001b[39;00m:\n\u001b[0;32m---> 12\u001b[0m     \u001b[38;5;28;01mraise\u001b[39;00m \u001b[43mStopIterator\u001b[49m\n",
            "\u001b[0;31mNameError\u001b[0m: name 'StopIterator' is not defined"
          ],
          "output_type": "error"
        }
      ],
      "execution_count": 6
    },
    {
      "cell_type": "markdown",
      "source": "# Вітаю! Ви велика(ий) молодець, що впоралась(вся). Похваліть себе та побалуйте чимось приємним. Я Вами пишаюся.",
      "metadata": {
        "id": "Z3E3S_s1Fv7-"
      }
    }
  ]
}